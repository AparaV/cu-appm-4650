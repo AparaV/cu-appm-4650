{
 "cells": [
  {
   "cell_type": "markdown",
   "metadata": {},
   "source": [
    "# Operation Hedgehog Quills\n",
    "### Assignment 1 "
   ]
  },
  {
   "cell_type": "code",
   "execution_count": null,
   "metadata": {
    "collapsed": true
   },
   "outputs": [],
   "source": [
    "import numpy as np\n",
    "from hedgehog.hw01 import *\n",
    "\n",
    "%load_ext autoreload\n",
    "%aimport hedgehog.hw01\n",
    "%autoreload 1"
   ]
  },
  {
   "cell_type": "markdown",
   "metadata": {},
   "source": [
    "#### Question 1"
   ]
  },
  {
   "cell_type": "code",
   "execution_count": null,
   "metadata": {
    "collapsed": true
   },
   "outputs": [],
   "source": [
    "def func_1(x):\n",
    "    y = x + np.exp(x)\n",
    "    return y\n",
    "\n",
    "def g_1(x):\n",
    "    g = -np.exp(x)\n",
    "    return g\n",
    "\n",
    "def func_1_p(x):\n",
    "    yp = 1 + np.exp(x)\n",
    "    return yp"
   ]
  },
  {
   "cell_type": "code",
   "execution_count": null,
   "metadata": {},
   "outputs": [],
   "source": [
    "a = -1\n",
    "b = 1\n",
    "\n",
    "print(\"Bisection\\n---\")\n",
    "r1 = bisection(func_1, a, b, tol=1e-4, test='x_ratio', isVerbose=True)\n",
    "print(r1)\n",
    "\n",
    "print(\"\\nFixed Point Iteration\\n---\")\n",
    "r2 = fixed_point_iter(g_1, a, tol=1e-4, test='x_ratio', isVerbose=True)\n",
    "print(r2)\n",
    "\n",
    "print(\"\\nNewton-Raphson\\n---\")\n",
    "r3 = newton_raphson(func_1, func_1_p, a, tol=1e-4, test='x_ratio', isVerbose=True)\n",
    "print(r3)\n",
    "\n",
    "print(\"\\nSecant\\n---\")\n",
    "r4 = secant(func_1, a, b, tol=1e-4, test='x_ratio', isVerbose=True)\n",
    "print(r4)\n",
    "\n",
    "print(\"\\nFalse Position\\n---\")\n",
    "r5 = false_position(func_1, a, b, tol=1e-4, max_iter=100, test='x_ratio', isVerbose=True)\n",
    "print(r5)"
   ]
  },
  {
   "cell_type": "markdown",
   "metadata": {},
   "source": [
    "#### Question 2"
   ]
  },
  {
   "cell_type": "code",
   "execution_count": null,
   "metadata": {
    "collapsed": true
   },
   "outputs": [],
   "source": [
    "def func_2_1(x):\n",
    "    ''' x - tan(x) = 0'''\n",
    "    y = x - np.tan(x)\n",
    "    return y\n",
    "\n",
    "def func_2_2(x):\n",
    "    ''' x^3 - 25 = 0'''\n",
    "    y = np.power(x, 3) - 25\n",
    "    return y"
   ]
  },
  {
   "cell_type": "code",
   "execution_count": null,
   "metadata": {},
   "outputs": [],
   "source": [
    "a = 1e-4\n",
    "b = 2\n",
    "\n",
    "r = bisection(func_2_1, a, b, tol=1e-5, test='x_ratio', isVerbose=True)\n",
    "print(r)"
   ]
  },
  {
   "cell_type": "code",
   "execution_count": null,
   "metadata": {},
   "outputs": [],
   "source": [
    "a = 2\n",
    "b = 4.7\n",
    "\n",
    "r = bisection(func_2_1, a, b, tol=1e-5, test='x_ratio', isVerbose=True)\n",
    "print(r)"
   ]
  },
  {
   "cell_type": "code",
   "execution_count": null,
   "metadata": {},
   "outputs": [],
   "source": [
    "a = 2\n",
    "b = 3\n",
    "\n",
    "r = bisection(func_2_2, a, b, tol=1e-4, test='x_ratio', isVerbose=True)\n",
    "print(r)"
   ]
  },
  {
   "cell_type": "markdown",
   "metadata": {},
   "source": [
    "#### Question 3"
   ]
  },
  {
   "cell_type": "code",
   "execution_count": null,
   "metadata": {
    "collapsed": true
   },
   "outputs": [],
   "source": [
    "def func_3(x):\n",
    "    ''' 2 sin(pi*x) + x = 0 '''\n",
    "    y = 2 * np.sin(np.pi * x) + x\n",
    "    return y\n",
    "\n",
    "def g_3(x):\n",
    "#     g = -2 * np.sin(np.pi * x)\n",
    "#     g = -1 / np.pi * np.arcsin(0.5 * x)\n",
    "    g = np.sqrt(x + x**2 + 2 * np.sin(np.pi * x))\n",
    "    return g"
   ]
  },
  {
   "cell_type": "code",
   "execution_count": null,
   "metadata": {},
   "outputs": [],
   "source": [
    "print(np.sin(np.pi))"
   ]
  },
  {
   "cell_type": "code",
   "execution_count": null,
   "metadata": {},
   "outputs": [],
   "source": [
    "p0 = 1\n",
    "\n",
    "r = fixed_point_iter(g_3, p0, max_iter=10000, tol=1e-2, test='x_ratio', isVerbose=True)\n",
    "print(r)"
   ]
  },
  {
   "cell_type": "markdown",
   "metadata": {},
   "source": [
    "#### Question 4"
   ]
  },
  {
   "cell_type": "markdown",
   "metadata": {},
   "source": [
    "4 (a) Numerical instability"
   ]
  },
  {
   "cell_type": "code",
   "execution_count": null,
   "metadata": {
    "collapsed": true
   },
   "outputs": [],
   "source": [
    "n = 30\n",
    "A = 135000\n",
    "P = 1000*12\n",
    "\n",
    "def func_4_2(i):\n",
    "    y = P / i * (1 - np.power((1 + i), -n)) - A\n",
    "    return y\n",
    "\n",
    "def func_4_2_p(i):\n",
    "    yp = -P / np.power(i, 2) * (1 - np.power((1 + i), -n))\n",
    "    yp += P / i * n * np.power((1 + i), -n-1)\n",
    "    return yp"
   ]
  },
  {
   "cell_type": "code",
   "execution_count": null,
   "metadata": {},
   "outputs": [],
   "source": [
    "x = 0.006\n",
    "\n",
    "r = newton_raphson(func_4_2, func_4_2_p, x, max_iter=200, tol=1e-5, test='x_ratio', isVerbose=True)\n",
    "print(r)"
   ]
  },
  {
   "cell_type": "markdown",
   "metadata": {},
   "source": [
    "#### Question 5"
   ]
  },
  {
   "cell_type": "code",
   "execution_count": null,
   "metadata": {
    "collapsed": true
   },
   "outputs": [],
   "source": [
    "def g_5(x):\n",
    "    ''' x = g(x) = x^3 + x - 25 '''\n",
    "    g = np.power(x, 3) + x - 25\n",
    "#     g = np.sqrt(25 / x)\n",
    "    return g"
   ]
  },
  {
   "cell_type": "code",
   "execution_count": null,
   "metadata": {},
   "outputs": [],
   "source": [
    "x0 = 3\n",
    "\n",
    "r = steffenson(g_5, x0, tol=1e-4, test='x_ratio', isVerbose=True)\n",
    "print(r)"
   ]
  },
  {
   "cell_type": "code",
   "execution_count": null,
   "metadata": {},
   "outputs": [],
   "source": [
    "steff_err = np.abs(25 - np.power(2.924018, 3))\n",
    "bisec_err = np.abs(25 - np.power(2.924072, 3))\n",
    "\n",
    "print(steff_err)\n",
    "print(bisec_err)"
   ]
  },
  {
   "cell_type": "markdown",
   "metadata": {},
   "source": [
    "#### Question 6"
   ]
  },
  {
   "cell_type": "code",
   "execution_count": null,
   "metadata": {
    "collapsed": true
   },
   "outputs": [],
   "source": [
    "def g_6(x):\n",
    "    ''' x = g(x) = (x^2 - 3) / 2 '''\n",
    "    g = (x*x - 3) / 2\n",
    "    return g"
   ]
  },
  {
   "cell_type": "code",
   "execution_count": null,
   "metadata": {},
   "outputs": [],
   "source": [
    "x0 = 4\n",
    "r = fixed_point_iter(g_6, x0, max_iter=200, tol=1e-4, test='x_ratio', isVerbose=True)\n",
    "print(r)"
   ]
  },
  {
   "cell_type": "code",
   "execution_count": null,
   "metadata": {},
   "outputs": [],
   "source": [
    "x0 = 3\n",
    "r = fixed_point_iter(g_6, x0, max_iter=200, tol=1e-4, test='x_ratio', isVerbose=True)\n",
    "print(r)"
   ]
  },
  {
   "cell_type": "code",
   "execution_count": null,
   "metadata": {},
   "outputs": [],
   "source": [
    "x0 = 1\n",
    "r = fixed_point_iter(g_6, x0, max_iter=200, tol=1e-4, test='x_ratio', isVerbose=True)\n",
    "print(r)"
   ]
  },
  {
   "cell_type": "code",
   "execution_count": null,
   "metadata": {},
   "outputs": [],
   "source": [
    "x0 = 0\n",
    "r = fixed_point_iter(g_6, x0, max_iter=200000, tol=1e-4, test='x_ratio', isVerbose=True)\n",
    "print(r)"
   ]
  },
  {
   "cell_type": "code",
   "execution_count": null,
   "metadata": {},
   "outputs": [],
   "source": [
    "x0 = -3\n",
    "r = fixed_point_iter(g_6, x0, max_iter=200, tol=1e-4, test='x_ratio', isVerbose=True)\n",
    "print(r)"
   ]
  },
  {
   "cell_type": "code",
   "execution_count": null,
   "metadata": {},
   "outputs": [],
   "source": [
    "x0 = -4\n",
    "r = fixed_point_iter(g_6, x0, max_iter=200, tol=1e-4, test='x_ratio', isVerbose=True)\n",
    "print(r)"
   ]
  },
  {
   "cell_type": "code",
   "execution_count": null,
   "metadata": {
    "collapsed": true
   },
   "outputs": [],
   "source": []
  }
 ],
 "metadata": {
  "kernelspec": {
   "display_name": "Python 3",
   "language": "python",
   "name": "python3"
  },
  "language_info": {
   "codemirror_mode": {
    "name": "ipython",
    "version": 3
   },
   "file_extension": ".py",
   "mimetype": "text/x-python",
   "name": "python",
   "nbconvert_exporter": "python",
   "pygments_lexer": "ipython3",
   "version": "3.6.1"
  }
 },
 "nbformat": 4,
 "nbformat_minor": 2
}
