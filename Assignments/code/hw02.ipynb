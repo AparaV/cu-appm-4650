{
 "cells": [
  {
   "cell_type": "markdown",
   "metadata": {},
   "source": [
    "# Mr. Lagrange's Spline\n",
    "### Assignment 2"
   ]
  },
  {
   "cell_type": "code",
   "execution_count": 1,
   "metadata": {},
   "outputs": [],
   "source": [
    "import numpy as np\n",
    "from numpy import linalg as LA\n",
    "from hedgehog.hw02 import *\n",
    "\n",
    "%load_ext autoreload\n",
    "%aimport hedgehog.hw02\n",
    "%autoreload 1"
   ]
  },
  {
   "cell_type": "markdown",
   "metadata": {},
   "source": [
    "#### Question 1"
   ]
  },
  {
   "cell_type": "markdown",
   "metadata": {},
   "source": [
    "See notes"
   ]
  },
  {
   "cell_type": "markdown",
   "metadata": {},
   "source": [
    "#### Question 2"
   ]
  },
  {
   "cell_type": "code",
   "execution_count": 2,
   "metadata": {
    "collapsed": true
   },
   "outputs": [],
   "source": [
    "a = 8.4"
   ]
  },
  {
   "cell_type": "code",
   "execution_count": 3,
   "metadata": {},
   "outputs": [
    {
     "name": "stdout",
     "output_type": "stream",
     "text": [
      "f(8.4) = 17.882505 using Lagrange polynomial approximation of degree 1\n",
      "f(8.4) = 17.880730 using Lagrange polynomial approximation of degree 1\n",
      "f(8.4) = 17.878330 using Lagrange polynomial approximation of degree 1\n",
      "f(8.4) = 17.878918 using Lagrange polynomial approximation of degree 1\n"
     ]
    }
   ],
   "source": [
    "X_1 = [8.1, 8.7]\n",
    "Y_1 = [16.94410, 18.82091]\n",
    "f = lagrange_poly(X_1, Y_1, a, isVerbose=True)\n",
    "\n",
    "X_1 = [8.1, 8.6]\n",
    "Y_1 = [16.94410, 18.50515]\n",
    "f = lagrange_poly(X_1, Y_1, a, isVerbose=True)\n",
    "\n",
    "X_1 = [8.3, 8.6]\n",
    "Y_1 = [17.56492, 18.50515]\n",
    "f = lagrange_poly(X_1, Y_1, a, isVerbose=True)\n",
    "\n",
    "X_1 = [8.3, 8.7]\n",
    "Y_1 = [17.56492, 18.82091]\n",
    "f = lagrange_poly(X_1, Y_1, a, isVerbose=True)"
   ]
  },
  {
   "cell_type": "code",
   "execution_count": 4,
   "metadata": {},
   "outputs": [
    {
     "name": "stdout",
     "output_type": "stream",
     "text": [
      "f(8.4) = 17.877130 using Lagrange polynomial approximation of degree 2\n",
      "f(8.4) = 17.877124 using Lagrange polynomial approximation of degree 2\n",
      "f(8.4) = 17.877155 using Lagrange polynomial approximation of degree 2\n",
      "f(8.4) = 17.877180 using Lagrange polynomial approximation of degree 2\n"
     ]
    }
   ],
   "source": [
    "X_2 = [8.1, 8.3, 8.6]\n",
    "Y_2 = [16.94410, 17.56492, 18.50515]\n",
    "f = lagrange_poly(X_2, Y_2, a, isVerbose=True)\n",
    "\n",
    "X_2 = [8.1, 8.3, 8.7]\n",
    "Y_2 = [16.94410, 17.56492, 18.82091]\n",
    "f = lagrange_poly(X_2, Y_2, a, isVerbose=True)\n",
    "\n",
    "X_2 = [8.3, 8.6, 8.7]\n",
    "Y_2 = [17.56492, 18.50515, 18.82091]\n",
    "f = lagrange_poly(X_2, Y_2, a, isVerbose=True)\n",
    "\n",
    "X_2 = [8.1, 8.6, 8.7]\n",
    "Y_2 = [16.94410, 18.50515, 18.82091]\n",
    "f = lagrange_poly(X_2, Y_2, a, isVerbose=True)"
   ]
  },
  {
   "cell_type": "code",
   "execution_count": 5,
   "metadata": {},
   "outputs": [
    {
     "name": "stdout",
     "output_type": "stream",
     "text": [
      "f(8.4) = 17.877143 using Lagrange polynomial approximation of degree 3\n"
     ]
    }
   ],
   "source": [
    "X = [8.1, 8.3, 8.6, 8.7]\n",
    "Y = [16.94410, 17.56492, 18.50515, 18.82091]\n",
    "f = lagrange_poly(X, Y, a, isVerbose=True)"
   ]
  },
  {
   "cell_type": "markdown",
   "metadata": {},
   "source": [
    "#### Question 3"
   ]
  },
  {
   "cell_type": "code",
   "execution_count": 6,
   "metadata": {},
   "outputs": [
    {
     "name": "stdout",
     "output_type": "stream",
     "text": [
      "f(8.4) = 17.877142 using Lagrange polynomial approximation of degree 3\n",
      "[16.9441, 0, 0, 0]\n",
      "[17.56492, 17.875329999999998, 0, 0]\n",
      "[18.50515, 17.87833, 17.877129999999998, 0]\n",
      "[18.82091, 17.87363, 17.877155, 17.877142499999998]\n"
     ]
    }
   ],
   "source": [
    "X = [8.1, 8.3, 8.6, 8.7]\n",
    "Y = [16.94410, 17.56492, 18.50515, 18.82091]\n",
    "a = 8.4\n",
    "\n",
    "# X = [1, 1.3, 1.6, 1.9, 2.2]\n",
    "# Y = [0.7651977, 0.6200360, 0.4534022, 0.28181816, 0.1103623]\n",
    "# a = 1.5\n",
    "\n",
    "Q = neville_method(X, Y, a, isVerbose=True)\n",
    "\n",
    "for i in range(len(Q)):\n",
    "    print(Q[i])"
   ]
  },
  {
   "cell_type": "markdown",
   "metadata": {
    "collapsed": true
   },
   "source": [
    "#### Question 4"
   ]
  },
  {
   "cell_type": "code",
   "execution_count": 7,
   "metadata": {
    "collapsed": true
   },
   "outputs": [],
   "source": [
    "A = np.array([[-27, 9, -3, 1, 0, 0, 0, 0, 0, 0, 0, 0],\n",
    "              [-1, 1, -1, 1, 0, 0, 0, 0, 0, 0, 0, 0],\n",
    "              [0, 0, 0, 0, -1, 1, -1, 1, 0, 0, 0, 0],\n",
    "              [0, 0, 0, 0, 1, 1, 1, 1, 0, 0, 0, 0],\n",
    "              [0, 0, 0, 0, 0, 0, 0, 0, 1, 1, 1, 1],\n",
    "              [0, 0, 0, 0, 0, 0, 0, 0, 27, 9, 3, 1],\n",
    "              [27, -6, 1, 0, 0, 0, 0, 0, 0, 0, 0, 0],\n",
    "              [0, 0, 0, 0, 0, 0, 0, 0, 27, 6, 1, 0],\n",
    "              [3, -2, 1, 0, -3, 2, -1, 0, 0, 0, 0, 0],\n",
    "              [-6, 2, 0, 0, 6, -2, 0, 0, 0, 0, 0, 0],\n",
    "              [0, 0, 0, 0, 3, 2, 1, 0, -3, -2, -1, 0],\n",
    "              [0, 0, 0, 0, 6, 2, 0, 0, -6, -2, 0, 0]])\n",
    "\n",
    "b = np.array([[81], [1], [1], [1], [1], [81], [-108], [108], [0], [0], [0], [0]])"
   ]
  },
  {
   "cell_type": "code",
   "execution_count": 8,
   "metadata": {},
   "outputs": [
    {
     "name": "stdout",
     "output_type": "stream",
     "text": [
      "[-8.]\n",
      "[-22.]\n",
      "[-24.]\n",
      "[-9.]\n",
      "[1.18423789e-15]\n",
      "[2.]\n",
      "[-1.18423789e-15]\n",
      "[-1.]\n",
      "[8.]\n",
      "[-22.]\n",
      "[24.]\n",
      "[-9.]\n"
     ]
    }
   ],
   "source": [
    "x = LA.solve(A, b)\n",
    "for x_i in x:\n",
    "    print(x_i)"
   ]
  },
  {
   "cell_type": "markdown",
   "metadata": {},
   "source": [
    "#### Question 5"
   ]
  },
  {
   "cell_type": "code",
   "execution_count": 9,
   "metadata": {
    "collapsed": true
   },
   "outputs": [],
   "source": [
    "A = np.array([[-1, 1, -1, 1, 0, 0, 0, 0],\n",
    "              [0, 0, 0, 1, 0, 0, 0, 0],\n",
    "              [0, 0, 0, 0, 0, 0, 0, 1],\n",
    "              [0, 0, 0, 0, 1, 1, 1, 1],\n",
    "              [3, -2, 1, 0, 0, 0, 0, 0],\n",
    "              [0, 0, 0, 0, 3, 2, 1, 0],\n",
    "              [0, 0, 1, 0, 0, 0, -1, 0],\n",
    "              [0, 2, 0, 0, 0, -2, 0, 0]])\n",
    "\n",
    "b = np.array([[1], [0], [0], [1], [-1], [1], [0], [0]])"
   ]
  },
  {
   "cell_type": "code",
   "execution_count": 10,
   "metadata": {},
   "outputs": [
    {
     "name": "stdout",
     "output_type": "stream",
     "text": [
      "[1.]\n",
      "[2.]\n",
      "[0.]\n",
      "[0.]\n",
      "[-1.]\n",
      "[2.]\n",
      "[0.]\n",
      "[0.]\n"
     ]
    }
   ],
   "source": [
    "x = LA.solve(A, b)\n",
    "for x_i in x:\n",
    "    print(x_i)"
   ]
  },
  {
   "cell_type": "markdown",
   "metadata": {},
   "source": [
    "#### Question 6"
   ]
  },
  {
   "cell_type": "code",
   "execution_count": 11,
   "metadata": {
    "collapsed": true
   },
   "outputs": [],
   "source": [
    "A = np.array([[-1, 1, -1, 1, 0, 0, 0, 0],\n",
    "              [0, 0, 0, 1, 0, 0, 0, 0],\n",
    "              [0, 0, 0, 0, 0, 0, 0, 1],\n",
    "              [0, 0, 0, 0, 1, 1, 1, 1],\n",
    "              [-6, 2, 0, 0, 0, 0, 0, 0],\n",
    "              [0, 0, 0, 0, 6, 2, 0, 0],\n",
    "              [0, 0, 1, 0, 0, 0, -1, 0],\n",
    "              [0, 2, 0, 0, 0, -2, 0, 0]])\n",
    "\n",
    "b = np.array([[1], [0], [0], [1], [0], [0], [0], [0]])"
   ]
  },
  {
   "cell_type": "code",
   "execution_count": 12,
   "metadata": {},
   "outputs": [
    {
     "name": "stdout",
     "output_type": "stream",
     "text": [
      "[0.5]\n",
      "[1.5]\n",
      "[-0.]\n",
      "[3.70074342e-17]\n",
      "[-0.5]\n",
      "[1.5]\n",
      "[0.]\n",
      "[0.]\n"
     ]
    }
   ],
   "source": [
    "x = LA.solve(A, b)\n",
    "for x_i in x:\n",
    "    print(x_i)"
   ]
  },
  {
   "cell_type": "code",
   "execution_count": null,
   "metadata": {
    "collapsed": true
   },
   "outputs": [],
   "source": []
  }
 ],
 "metadata": {
  "kernelspec": {
   "display_name": "Python 3",
   "language": "python",
   "name": "python3"
  },
  "language_info": {
   "codemirror_mode": {
    "name": "ipython",
    "version": 3
   },
   "file_extension": ".py",
   "mimetype": "text/x-python",
   "name": "python",
   "nbconvert_exporter": "python",
   "pygments_lexer": "ipython3",
   "version": "3.6.1"
  }
 },
 "nbformat": 4,
 "nbformat_minor": 2
}
