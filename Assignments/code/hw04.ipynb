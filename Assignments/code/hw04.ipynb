{
 "cells": [
  {
   "cell_type": "markdown",
   "metadata": {},
   "source": [
    "# Obsessive Daily Exercises\n",
    "### Assignment 4"
   ]
  },
  {
   "cell_type": "code",
   "execution_count": 1,
   "metadata": {},
   "outputs": [],
   "source": [
    "import numpy as np\n",
    "from numpy import linalg as LA\n",
    "from hedgehog.hw04 import *\n",
    "\n",
    "%load_ext autoreload\n",
    "%aimport hedgehog.hw04\n",
    "%autoreload 1"
   ]
  },
  {
   "cell_type": "markdown",
   "metadata": {},
   "source": [
    "#### Question 1\n",
    "See assignment"
   ]
  },
  {
   "cell_type": "markdown",
   "metadata": {},
   "source": [
    "#### Question 2"
   ]
  },
  {
   "cell_type": "code",
   "execution_count": 2,
   "metadata": {
    "collapsed": true
   },
   "outputs": [],
   "source": [
    "def u1_p(t, u):\n",
    "    u1 = u[0][0]\n",
    "    u2 = u[1][0]\n",
    "    y = 3*u1 + 2*u2 - (2*t*t + 1) * np.exp(2*t)\n",
    "    return y\n",
    "\n",
    "def u2_p(t, u):\n",
    "    u1 = u[0][0]\n",
    "    u2 = u[1][0]\n",
    "    y = 4*u1 + u2 + (t*t + 2*t - 4) * np.exp(2*t)\n",
    "    return y\n",
    "\n",
    "def ans_u1(t):\n",
    "    y = np.exp(5*t) / 3 - np.exp(-t) / 3 + np.exp(2*t)\n",
    "    return y\n",
    "\n",
    "def ans_u2(t):\n",
    "    y = np.exp(5*t) / 3 + 2 * np.exp(-t) / 3 + np.power(t, 2) * np.exp(2*t)\n",
    "    return y"
   ]
  },
  {
   "cell_type": "code",
   "execution_count": 3,
   "metadata": {},
   "outputs": [
    {
     "name": "stdout",
     "output_type": "stream",
     "text": [
      "t = 0.0000000\t( 1.0000000, 1.0000000 )\n",
      "t = 0.2000000\t( 2.1203658, 1.5069919 )\n",
      "t = 0.4000000\t( 4.4412278, 3.2422402 )\n",
      "t = 0.6000000\t( 9.7391333, 8.1634170 )\n",
      "t = 0.8000000\t( 22.6765598, 21.3435278 )\n",
      "t = 1.0000000\t( 55.6611809, 56.0305030 )\n",
      "---\n",
      "t = 0.0000000\t( 1.0000000, 1.0000000 )\n",
      "t = 0.2000000\t( 2.1250084, 1.5115874 )\n",
      "t = 0.4000000\t( 4.4651196, 3.2659853 )\n",
      "t = 0.6000000\t( 9.8323587, 8.2562955 )\n",
      "t = 0.8000000\t( 23.0026394, 21.6688767 )\n",
      "t = 1.0000000\t( 56.7374827, 57.1053621 )\n"
     ]
    }
   ],
   "source": [
    "system = np.array([[u1_p], [u2_p]])\n",
    "u0 = np.array([[1.0], [1.0]])\n",
    "h = 0.2\n",
    "t0 = 0.0\n",
    "tf = 1.0\n",
    "\n",
    "uf = runge_kutta_4(system, u0, h, t0, tf)\n",
    "\n",
    "print(\"---\")\n",
    "t = [0, 0.2, 0.4, 0.6, 0.8, 1.0]\n",
    "for i in t:\n",
    "    print(\"t = {:.7f}\\t( {:.7f}, {:.7f} )\".format(i, ans_u1(i), ans_u2(i)))"
   ]
  },
  {
   "cell_type": "markdown",
   "metadata": {},
   "source": [
    "#### Question 3"
   ]
  },
  {
   "cell_type": "code",
   "execution_count": 4,
   "metadata": {
    "collapsed": true
   },
   "outputs": [],
   "source": [
    "def y_p(x, y):\n",
    "    return x + y\n",
    "\n",
    "def y_p_rk(x, y):\n",
    "    return x + y[0][0]\n",
    "\n",
    "def y(x):\n",
    "    return np.exp(x) - x - 1"
   ]
  },
  {
   "cell_type": "code",
   "execution_count": 5,
   "metadata": {},
   "outputs": [
    {
     "name": "stdout",
     "output_type": "stream",
     "text": [
      "t = 0.0000000\t( 0.0000000 )\n",
      "t = 0.1000000\t( 0.0051708 )\n",
      "t = 0.2000000\t( 0.0214026 )\n",
      "t = 0.3000000\t( 0.0498585 )\n",
      "t = 0.4000000\t( 0.0918242 )\n",
      "t = 0.5000000\t( 0.1487206 )\n",
      "---\n",
      "t = 0.0000000\t0.0000000\n",
      "t = 0.1000000\t0.0051709\n",
      "t = 0.2000000\t0.0214028\n",
      "t = 0.3000000\t0.0498588\n",
      "t = 0.4000000\t0.0918247\n",
      "t = 0.5000000\t0.1487213\n"
     ]
    }
   ],
   "source": [
    "# Runge Kutta 4\n",
    "system = np.array([[y_p_rk]])\n",
    "y0 = np.array([[0]])\n",
    "x0 = 0\n",
    "h = 0.1\n",
    "xf = 0.5\n",
    "\n",
    "yf = runge_kutta_4(system, y0, h, x0, xf)\n",
    "\n",
    "print(\"---\")\n",
    "t = [0, 0.1, 0.2, 0.3, 0.4, 0.5]\n",
    "for i in t:\n",
    "    print(\"t = {:.7f}\\t{:.7f}\".format(i, y(i)))"
   ]
  },
  {
   "cell_type": "code",
   "execution_count": 6,
   "metadata": {},
   "outputs": [
    {
     "name": "stdout",
     "output_type": "stream",
     "text": [
      "t = 0.000000\t0.000000\n",
      "t = 0.100000\t0.000000\n",
      "t = 0.200000\t0.010000\n",
      "t = 0.300000\t0.031000\n",
      "t = 0.400000\t0.064100\n",
      "t = 0.500000\t0.110510\n",
      "---\n",
      "t = 0.000000\t0.000000\n",
      "t = 0.100000\t0.005171\n",
      "t = 0.200000\t0.021403\n",
      "t = 0.300000\t0.049859\n",
      "t = 0.400000\t0.091825\n",
      "t = 0.500000\t0.148721\n"
     ]
    }
   ],
   "source": [
    "# Euler\n",
    "y0 = 0\n",
    "x0 = 0\n",
    "h = 0.1\n",
    "xf = 0.5\n",
    "\n",
    "yf = euler(y_p, y0, h, x0, xf)\n",
    "\n",
    "print(\"---\")\n",
    "t = [0, 0.1, 0.2, 0.3, 0.4, 0.5]\n",
    "for i in t:\n",
    "    print(\"t = {:.6f}\\t{:.6f}\".format(i, y(i)))"
   ]
  },
  {
   "cell_type": "code",
   "execution_count": 7,
   "metadata": {},
   "outputs": [
    {
     "name": "stdout",
     "output_type": "stream",
     "text": [
      "0.05 0.0012500000000000002\n",
      "t = 0.100000,\tx = 0.005094\n",
      "t = 0.200000,\tx = 0.020858\n",
      "t = 0.300000,\tx = 0.048732\n",
      "t = 0.400000,\tx = 0.089999\n",
      "t = 0.500000,\tx = 0.146062\n",
      "0.1487212707001282\n"
     ]
    }
   ],
   "source": [
    "# Adams-Bashforth 2 point\n",
    "x0 = 0\n",
    "y0 = 0\n",
    "x1 = 0.05\n",
    "y1 = x1 * x1 / 2\n",
    "xf = 0.5\n",
    "h = 0.1\n",
    "\n",
    "print(x1, y1)\n",
    "yf = adams_bashforth_2(y_p, y0, y1, h, x0, x1, xf)\n",
    "# print(yf)\n",
    "print(y(0.5))"
   ]
  },
  {
   "cell_type": "code",
   "execution_count": 8,
   "metadata": {},
   "outputs": [
    {
     "name": "stdout",
     "output_type": "stream",
     "text": [
      "t = 0.000000\t0.000000\n",
      "t = 0.100000\t0.005000\n",
      "t = 0.200000\t0.021025\n",
      "t = 0.300000\t0.049233\n",
      "t = 0.400000\t0.090902\n",
      "t = 0.500000\t0.147447\n",
      "0.1487212707001282\n"
     ]
    }
   ],
   "source": [
    "# Improved Euler\n",
    "y0 = 0\n",
    "x0 = 0\n",
    "h = 0.1\n",
    "xf = 0.5\n",
    "\n",
    "yf = improved_euler(y_p, y0, h, x0, xf)\n",
    "# print(yf)\n",
    "print(y(0.5))"
   ]
  },
  {
   "cell_type": "code",
   "execution_count": 10,
   "metadata": {},
   "outputs": [
    {
     "name": "stdout",
     "output_type": "stream",
     "text": [
      "t = 0.000000,\tx = 0.000000\n",
      "t = 0.010000,\tx = 0.000050\n",
      "t = 0.020000,\tx = 0.000200\n",
      "t = 0.030000,\tx = 0.000450\n",
      "t = 0.100000,\tx = 0.004574\n",
      "t = 0.200000,\tx = 0.021322\n",
      "t = 0.300000,\tx = 0.049854\n",
      "t = 0.400000,\tx = 0.091815\n",
      "t = 0.500000,\tx = 0.148711\n",
      "0.1487212707001282\n"
     ]
    }
   ],
   "source": [
    "# Predictor Corrector\n",
    "x0 = 0\n",
    "x1 = 0.01\n",
    "x2 = 0.02\n",
    "x3 = 0.03\n",
    "y0 = 0\n",
    "y1 = x1*x1/2\n",
    "y2 = x2*x2/2\n",
    "y3 = x3*x3/2\n",
    "h = 0.1\n",
    "xf = 0.5\n",
    "\n",
    "yf = predictor_corrector(y_p, y0, y1, y2, y3, h, x0, x1, x2, x3, xf)\n",
    "# print(yf)\n",
    "print(y(0.5))"
   ]
  },
  {
   "cell_type": "code",
   "execution_count": 11,
   "metadata": {},
   "outputs": [
    {
     "name": "stdout",
     "output_type": "stream",
     "text": [
      "t = 0.0000000,\tx = 0.0000000\n",
      "t = 0.0500000,\tx = 0.0012500\n",
      "t = 0.1000000,\tx = 0.0051489\n",
      "t = 0.2000000,\tx = 0.0209375\n",
      "t = 0.3000000,\tx = 0.0493465\n",
      "t = 0.4000000,\tx = 0.0912645\n",
      "t = 0.5000000,\tx = 0.1481088\n",
      "0.1481088030687335\n",
      "0.1487212707001282\n"
     ]
    }
   ],
   "source": [
    "# Adams-Moulton 2 point\n",
    "def g(xi_2, xi_1, xi_0, yi_2, yi_1, h):\n",
    "    ans = 5*h*xi_0 + 8*h*xi_1 + (12 + 8*h)*yi_1 - h*xi_2 - h*yi_2\n",
    "    ans /= (12 - 5*h)\n",
    "    return ans\n",
    "\n",
    "x0 = 0\n",
    "x1 = 0.05\n",
    "y0 = 0\n",
    "y1 = x1*x1/2\n",
    "h = 0.1\n",
    "xf = 0.5\n",
    "\n",
    "yf = adams_moulton_2(g, x0, x1, xf, y0, y1, h)\n",
    "print(yf)\n",
    "print(y(0.5))"
   ]
  },
  {
   "cell_type": "code",
   "execution_count": null,
   "metadata": {
    "collapsed": true
   },
   "outputs": [],
   "source": []
  }
 ],
 "metadata": {
  "kernelspec": {
   "display_name": "Python 3",
   "language": "python",
   "name": "python3"
  },
  "language_info": {
   "codemirror_mode": {
    "name": "ipython",
    "version": 3
   },
   "file_extension": ".py",
   "mimetype": "text/x-python",
   "name": "python",
   "nbconvert_exporter": "python",
   "pygments_lexer": "ipython3",
   "version": "3.6.1"
  }
 },
 "nbformat": 4,
 "nbformat_minor": 2
}
