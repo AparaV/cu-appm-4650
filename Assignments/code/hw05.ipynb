{
 "cells": [
  {
   "cell_type": "markdown",
   "metadata": {},
   "source": [
    "# Matrix Convolutions\n",
    "### Assignment 5"
   ]
  },
  {
   "cell_type": "code",
   "execution_count": 82,
   "metadata": {},
   "outputs": [
    {
     "name": "stdout",
     "output_type": "stream",
     "text": [
      "The autoreload extension is already loaded. To reload it, use:\n",
      "  %reload_ext autoreload\n"
     ]
    }
   ],
   "source": [
    "import numpy as np\n",
    "from numpy import linalg as LA\n",
    "from hedgehog.hw05 import *\n",
    "from scipy.constants import golden\n",
    "\n",
    "import matplotlib.pyplot as plt\n",
    "\n",
    "%load_ext autoreload\n",
    "%aimport hedgehog.hw05\n",
    "%autoreload 1"
   ]
  },
  {
   "cell_type": "markdown",
   "metadata": {},
   "source": [
    "#### Question 1"
   ]
  },
  {
   "cell_type": "markdown",
   "metadata": {},
   "source": [
    "See notes/assignment."
   ]
  },
  {
   "cell_type": "markdown",
   "metadata": {},
   "source": [
    "#### Question 2"
   ]
  },
  {
   "cell_type": "code",
   "execution_count": 124,
   "metadata": {},
   "outputs": [],
   "source": [
    "A = np.array([[4, 3, 0],\n",
    "              [3, 4, -1],\n",
    "              [0, -1, 4]])\n",
    "b = np.array([[24], [30], [-24]])\n",
    "x_0 = np.array([[1], [1], [1]])\n",
    "\n",
    "W = np.arange(0.1, 1.9, 0.01)\n",
    "I = []\n",
    "for w in W:\n",
    "    x, i = gauss_seidel(A, b, x_0, w, tol=10e-8)\n",
    "    I.append(i)"
   ]
  },
  {
   "cell_type": "code",
   "execution_count": 141,
   "metadata": {},
   "outputs": [
    {
     "name": "stdout",
     "output_type": "stream",
     "text": [
      "[1.2199999999999995, 1.2299999999999995, 1.2399999999999995, 1.2499999999999996, 1.2599999999999996] 15\n"
     ]
    }
   ],
   "source": [
    "best_W = []\n",
    "best_I = np.min(I)\n",
    "for idx, w in enumerate(W):\n",
    "    if I[idx] == best_I:\n",
    "        best_W.append(w)\n",
    "best_I = [best_I] * len(best_W)\n",
    "\n",
    "print(best_W, best_I[0])\n",
    "\n",
    "plt.figure(figsize=(15,8))\n",
    "plt.title(r\"Number of iterations vs. $\\omega$\", fontsize=15)\n",
    "plt.xlabel(r\"$\\omega$\", fontsize=15)\n",
    "plt.ylabel(r\"Number of iterations\", fontsize=15)\n",
    "plt.xticks(np.arange(0, 2, 0.1))\n",
    "plt.yticks(np.arange(0, np.max(I) + 30, 30))\n",
    "plt.scatter(W, I, color=\"dimgrey\", marker=\"o\", s=10, label=\"\")\n",
    "plt.scatter(best_W, best_I, color=\"orangered\", marker=\"o\", s=10, label=\"Optimal points\")\n",
    "# plt.legend()\n",
    "# plt.show()\n",
    "plt.savefig(\"../hw05_gauss_seidel.PNG\", dpi=200)"
   ]
  },
  {
   "cell_type": "code",
   "execution_count": 142,
   "metadata": {},
   "outputs": [
    {
     "name": "stdout",
     "output_type": "stream",
     "text": [
      "38\n"
     ]
    }
   ],
   "source": [
    "x, i = gauss_seidel(A, b, x_0, 1.6, tol=10e-8, isVerbose=False)\n",
    "print(i)"
   ]
  },
  {
   "cell_type": "markdown",
   "metadata": {},
   "source": [
    "#### Question 3"
   ]
  },
  {
   "cell_type": "code",
   "execution_count": 139,
   "metadata": {},
   "outputs": [
    {
     "name": "stdout",
     "output_type": "stream",
     "text": [
      "[[ 0.5 -0.1  0.5]\n",
      " [ 0.   0.2  0. ]\n",
      " [-0.5  0.3 -1.5]]\n"
     ]
    }
   ],
   "source": [
    "A = np.array([[3, 0, 1],\n",
    "              [0, 5, 0],\n",
    "              [-1, 1, -1]])\n",
    "x_0 = np.array([[0.5, -0.1, 0.4],\n",
    "                [0, 0.2, 0],\n",
    "                [-0.4, 0.3, -1.5]])\n",
    "I = np.eye(3)\n",
    "print(LA.inv(A))"
   ]
  },
  {
   "cell_type": "code",
   "execution_count": 138,
   "metadata": {},
   "outputs": [
    {
     "name": "stdout",
     "output_type": "stream",
     "text": [
      "[[ 0.49 -0.1   0.51]\n",
      " [ 0.    0.2   0.  ]\n",
      " [-0.51  0.3  -1.47]]\n",
      "[[ 0.4994 -0.1     0.501 ]\n",
      " [ 0.      0.2     0.    ]\n",
      " [-0.501   0.3    -1.4982]]\n"
     ]
    }
   ],
   "source": [
    "x_1 = np.matmul(x_0, 2*I - np.matmul(A, x_0))\n",
    "x_2 = np.matmul(x_1, 2*I - np.matmul(A, x_1))\n",
    "print(x_1)\n",
    "print(x_2)"
   ]
  },
  {
   "cell_type": "code",
   "execution_count": 140,
   "metadata": {},
   "outputs": [
    {
     "name": "stdout",
     "output_type": "stream",
     "text": [
      "[[ 1.00000000e-02  0.00000000e+00 -1.00000000e-02]\n",
      " [ 0.00000000e+00  0.00000000e+00  0.00000000e+00]\n",
      " [ 1.00000000e-02 -5.55111512e-17 -3.00000000e-02]]\n",
      "[[ 6.00000000e-04  0.00000000e+00 -1.00000000e-03]\n",
      " [ 0.00000000e+00  0.00000000e+00  0.00000000e+00]\n",
      " [ 1.00000000e-03 -5.55111512e-17 -1.80000000e-03]]\n"
     ]
    }
   ],
   "source": [
    "A_inv = np.array([[0.5, -0.1, 0.5],\n",
    "                  [0, 0.2, 0],\n",
    "                  [-0.5, 0.3, -1.5]])\n",
    "\n",
    "print(A_inv - x_1)\n",
    "print(A_inv - x_2)"
   ]
  },
  {
   "cell_type": "markdown",
   "metadata": {},
   "source": [
    "#### Question 4"
   ]
  },
  {
   "cell_type": "code",
   "execution_count": 20,
   "metadata": {},
   "outputs": [
    {
     "name": "stdout",
     "output_type": "stream",
     "text": [
      "[2.618033988749895, 2.618033988749895, 2.618033988749895, 2.618033988749895]\n",
      "[[ 2.61803399]\n",
      " [-1.61803399]\n",
      " [-1.61803399]\n",
      " [ 2.61803399]]\n"
     ]
    }
   ],
   "source": [
    "A = np.array([[2, -1, 0, 0],\n",
    "              [-1, 2, -1, 0],\n",
    "              [0, -1, 2, -1],\n",
    "              [0, 0, -1, 2]])\n",
    "x_1 = np.array([[1], [1], [1], [1]])\n",
    "\n",
    "eigenval_1, eigenvec_1 = power_method(A, x_1, max_iter=50, isVerbose=False)\n",
    "print(eigenval_1)\n",
    "print(eigenvec_1)"
   ]
  },
  {
   "cell_type": "code",
   "execution_count": 9,
   "metadata": {},
   "outputs": [
    {
     "name": "stdout",
     "output_type": "stream",
     "text": [
      "3.6180339887498993\n",
      "[[ 2.23606775]\n",
      " [-3.61803377]\n",
      " [ 3.61803395]\n",
      " [-2.23606805]]\n"
     ]
    }
   ],
   "source": [
    "x_2 = np.array([[1], [1], [5], [1]])\n",
    "\n",
    "eigenval_2, eigenvec_2 = power_method(A, x_2, max_iter=50, isVerbose=False)\n",
    "print(np.sum(eigenval_2) / len(eigenval_2))\n",
    "print(eigenvec_2)"
   ]
  },
  {
   "cell_type": "code",
   "execution_count": 11,
   "metadata": {},
   "outputs": [
    {
     "name": "stdout",
     "output_type": "stream",
     "text": [
      "[[0.]\n",
      " [0.]\n",
      " [0.]\n",
      " [0.]]\n",
      "[[-5.57325635e-08]\n",
      " [ 2.36086924e-07]\n",
      " [-4.16441287e-07]\n",
      " [ 3.47552051e-07]]\n"
     ]
    }
   ],
   "source": [
    "print(np.matmul(A, eigenvec_1) - eigenval_1[0] * eigenvec_1)\n",
    "\n",
    "print(np.matmul(A, eigenvec_2) - eigenval_2[0] * eigenvec_2)"
   ]
  },
  {
   "cell_type": "code",
   "execution_count": 12,
   "metadata": {},
   "outputs": [
    {
     "name": "stdout",
     "output_type": "stream",
     "text": [
      "[3.61803399 2.61803399 0.38196601 1.38196601]\n",
      "[[-0.37174803 -0.60150096 -0.37174803 -0.60150096]\n",
      " [ 0.60150096  0.37174803 -0.60150096 -0.37174803]\n",
      " [-0.60150096  0.37174803 -0.60150096  0.37174803]\n",
      " [ 0.37174803 -0.60150096 -0.37174803  0.60150096]]\n"
     ]
    }
   ],
   "source": [
    "w, v = LA.eig(A)\n",
    "print(w)\n",
    "print(v)"
   ]
  },
  {
   "cell_type": "code",
   "execution_count": 34,
   "metadata": {},
   "outputs": [
    {
     "data": {
      "text/plain": [
       "array([[ 4.81809524e-16],\n",
       "       [-4.59505841e-01],\n",
       "       [-1.94649798e+00],\n",
       "       [-2.72249584e-16]])"
      ]
     },
     "execution_count": 34,
     "metadata": {},
     "output_type": "execute_result"
    }
   ],
   "source": [
    "LA.solve(v, x_1)"
   ]
  },
  {
   "cell_type": "code",
   "execution_count": 42,
   "metadata": {},
   "outputs": [
    {
     "data": {
      "text/plain": [
       "array([1.00159911, 1.00192277, 1.00192277, 1.00159911])"
      ]
     },
     "execution_count": 42,
     "metadata": {},
     "output_type": "execute_result"
    }
   ],
   "source": [
    "-0.46 * v[:,1] - 1.95 * v[:,2]"
   ]
  },
  {
   "cell_type": "markdown",
   "metadata": {},
   "source": [
    "#### Question 5"
   ]
  },
  {
   "cell_type": "code",
   "execution_count": 43,
   "metadata": {
    "collapsed": true
   },
   "outputs": [],
   "source": [
    "A = np.array([[2, -1, 1],\n",
    "              [-1, 3, 2],\n",
    "              [1, 2, 3]])\n",
    "x_0 = np.array([[1], [1], [1]])"
   ]
  },
  {
   "cell_type": "code",
   "execution_count": 54,
   "metadata": {},
   "outputs": [
    {
     "name": "stdout",
     "output_type": "stream",
     "text": [
      "[[2]\n",
      " [4]\n",
      " [6]]\n",
      "[[ 6]\n",
      " [22]\n",
      " [28]]\n",
      "[[ 18]\n",
      " [116]\n",
      " [134]]\n"
     ]
    }
   ],
   "source": [
    "x_1 = np.matmul(A, x_0)\n",
    "x_2 = np.matmul(A, x_1)\n",
    "x_3 = np.matmul(A, x_2)"
   ]
  },
  {
   "cell_type": "code",
   "execution_count": 55,
   "metadata": {},
   "outputs": [
    {
     "name": "stdout",
     "output_type": "stream",
     "text": [
      "1304\n",
      "6412\n",
      "31736\n",
      "q = 4.9171779\n",
      "err = 0.3984779\n"
     ]
    }
   ],
   "source": [
    "m_0 = np.matmul(x_2.T, x_2)[0][0]\n",
    "m_1 = np.matmul(x_2.T, x_3)[0][0]\n",
    "m_2 = np.matmul(x_3.T, x_3)[0][0]\n",
    "\n",
    "q = m_1 / m_0\n",
    "err = np.sqrt(m_2 / m_0 - q*q)\n",
    "print(\"q = {:.7f}\".format(q))\n",
    "print(\"err = {:.7f}\".format(err))"
   ]
  },
  {
   "cell_type": "code",
   "execution_count": 57,
   "metadata": {},
   "outputs": [
    {
     "name": "stdout",
     "output_type": "stream",
     "text": [
      "[5.0, 5.0, 5.0]\n",
      "[[4.4408921e-16]\n",
      " [5.0000000e+00]\n",
      " [5.0000000e+00]]\n"
     ]
    }
   ],
   "source": [
    "eigenval, eigenvec = power_method(A, x_0, max_iter=100, isVerbose=False)\n",
    "print(eigenval)\n",
    "print(eigenvec)"
   ]
  },
  {
   "cell_type": "code",
   "execution_count": 58,
   "metadata": {},
   "outputs": [
    {
     "data": {
      "text/plain": [
       "array([[0],\n",
       "       [5],\n",
       "       [5]])"
      ]
     },
     "execution_count": 58,
     "metadata": {},
     "output_type": "execute_result"
    }
   ],
   "source": [
    "np.matmul(A, np.array([[0], [1], [1]]))"
   ]
  },
  {
   "cell_type": "code",
   "execution_count": null,
   "metadata": {
    "collapsed": true
   },
   "outputs": [],
   "source": []
  }
 ],
 "metadata": {
  "kernelspec": {
   "display_name": "Python 3",
   "language": "python",
   "name": "python3"
  },
  "language_info": {
   "codemirror_mode": {
    "name": "ipython",
    "version": 3
   },
   "file_extension": ".py",
   "mimetype": "text/x-python",
   "name": "python",
   "nbconvert_exporter": "python",
   "pygments_lexer": "ipython3",
   "version": "3.6.1"
  }
 },
 "nbformat": 4,
 "nbformat_minor": 2
}
